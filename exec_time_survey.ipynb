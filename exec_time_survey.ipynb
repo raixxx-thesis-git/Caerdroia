{
 "cells": [
  {
   "cell_type": "code",
   "execution_count": 3,
   "metadata": {},
   "outputs": [
    {
     "name": "stdout",
     "output_type": "stream",
     "text": [
      "for loop exec time average: 0.03706991195678711\n",
      "for loop exec time std: 0.03415125297370427\n",
      "\n",
      "cupy sum exec time average: 0.04074386835098267\n",
      "cupy sum exec time std: 0.004220867425526529\n"
     ]
    }
   ],
   "source": [
    "import cupy\n",
    "import time\n",
    "\n",
    "iter_times = 100\n",
    "n_matrices = 200\n",
    "\n",
    "matrices = []\n",
    "the_sum = None\n",
    "\n",
    "for_loop_exec_times = []\n",
    "cupy_sum_exec_times = []\n",
    "\n",
    "for i in range(n_matrices):\n",
    "  matrices.append(cupy.random.normal(size=(600,600)))\n",
    "\n",
    "\n",
    "for j in range(iter_times):\n",
    "  the_sum = None\n",
    "  start_time = time.time()\n",
    "  for i in matrices:\n",
    "    the_sum = i if type(the_sum) == type(None) else the_sum + i\n",
    "  end_time = time.time()\n",
    "  for_loop_exec_times.append(end_time - start_time)\n",
    "\n",
    "for j in range(iter_times):\n",
    "  the_sum = None\n",
    "  start_time = time.time()\n",
    "  cupy_matrices = cupy.array(matrices)\n",
    "  the_sum = cupy.sum(cupy_matrices)\n",
    "  end_time = time.time()\n",
    "  cupy_sum_exec_times.append(end_time - start_time)\n",
    "\n",
    "for_loop_exec_times_avg = cupy.average(cupy.array(for_loop_exec_times))\n",
    "for_loop_exec_times_std = cupy.std(cupy.array(for_loop_exec_times))\n",
    "\n",
    "cupy_sum_exec_times_avg = cupy.average(cupy.array(cupy_sum_exec_times))\n",
    "cupy_sum_exec_times_std = cupy.std(cupy.array(cupy_sum_exec_times))\n",
    "\n",
    "\n",
    "print('for loop exec time average:', for_loop_exec_times_avg)\n",
    "print('for loop exec time std:', for_loop_exec_times_std)\n",
    "print('\\ncupy sum exec time average:', cupy_sum_exec_times_avg)\n",
    "print('cupy sum exec time std:', cupy_sum_exec_times_std)\n"
   ]
  },
  {
   "cell_type": "code",
   "execution_count": null,
   "metadata": {},
   "outputs": [],
   "source": []
  }
 ],
 "metadata": {
  "kernelspec": {
   "display_name": "venv",
   "language": "python",
   "name": "python3"
  },
  "language_info": {
   "codemirror_mode": {
    "name": "ipython",
    "version": 3
   },
   "file_extension": ".py",
   "mimetype": "text/x-python",
   "name": "python",
   "nbconvert_exporter": "python",
   "pygments_lexer": "ipython3",
   "version": "3.10.12"
  }
 },
 "nbformat": 4,
 "nbformat_minor": 2
}
