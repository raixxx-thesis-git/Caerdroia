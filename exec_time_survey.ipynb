{
 "cells": [
  {
   "cell_type": "code",
   "execution_count": 4,
   "metadata": {},
   "outputs": [],
   "source": [
    "from cupy import ndarray\n",
    "from typing import List, Any, Tuple, Set\n",
    "\n",
    "import nodeleys as ndl\n",
    "import sys\n",
    "import tensorflow as tf\n",
    "\n",
    "def t_update(ndl):\n",
    "  pending_for_deletion = []\n",
    "  for i in sys.modules:\n",
    "    if i.split('.')[0] == 'nodeleys':\n",
    "      pending_for_deletion.append(i)\n",
    "    \n",
    "  for i in pending_for_deletion:\n",
    "    del sys.modules[i]\n",
    "\n",
    "  import nodeleys as ndl\n",
    "  return ndl\n",
    "import time\n",
    "def tfct(node):\n",
    "  return tf.convert_to_tensor(node.tensor.get(), dtype=tf.float64)\n"
   ]
  },
  {
   "cell_type": "code",
   "execution_count": 5,
   "metadata": {},
   "outputs": [],
   "source": [
    "ndl = t_update(ndl)\n",
    "from nodeleys.model.layers import Dense\n",
    "from nodeleys.model.layers.activations import *\n",
    "from nodeleys.math.initializers import *\n",
    "from nodeleys import Node"
   ]
  },
  {
   "cell_type": "code",
   "execution_count": 6,
   "metadata": {},
   "outputs": [
    {
     "name": "stdout",
     "output_type": "stream",
     "text": [
      "140636143249808\n",
      "140636143250192\n",
      "--- 0.008705615997314453 seconds ---\n",
      "--- 0.13380169868469238 seconds ---\n"
     ]
    }
   ],
   "source": [
    "import time\n",
    "\n",
    "ndl = t_update(ndl)\n",
    "from nodeleys.math.forward_math_func import *\n",
    "from nodeleys.graph import Switch\n",
    "\n",
    "data_x = ndl.Node(cupy.random.normal(size=(1516,1516)), name='x')\n",
    "data_y = ndl.Node(cupy.random.normal(size=(1516,1)), name='y')\n",
    "data_y.is_constant = True\n",
    "\n",
    "w0 = ndl.Node(cupy.random.normal(size=(1516,516)), name='w0')\n",
    "b0 = ndl.Node(cupy.random.normal(size=(1,516)), name='b0')\n",
    "\n",
    "w1 = ndl.Node(cupy.random.normal(size=(516,64)), name='w1')\n",
    "b1 = ndl.Node(cupy.random.normal(size=(1,64)), name='b1')\n",
    "\n",
    "w1r = ndl.Node(cupy.random.normal(size=(516,64)), name='w1r')\n",
    "b1r = ndl.Node(cupy.random.normal(size=(1,64)), name='b1r')\n",
    "\n",
    "rR = ndl.Node(cupy.random.normal(size=(64,64)), name='rR')\n",
    "bR = ndl.Node(cupy.random.normal(size=(1,64)), name='bR')\n",
    "\n",
    "rL = ndl.Node(cupy.random.normal(size=(64,64)), name='rL')\n",
    "bL = ndl.Node(cupy.random.normal(size=(1,64)), name='bL')\n",
    "\n",
    "w2 = ndl.Node(cupy.random.normal(size=(64,1)), name='w2')\n",
    "b2 = ndl.Node(cupy.random.normal(size=(1,1)), name='b2')\n",
    "\n",
    "RANX = ndl.Node(cupy.random.normal(size=(1516, 64)), name='RANX')\n",
    "\n",
    "gamma0 = node_matmul(data_x, w0, 'gamma0')\n",
    "y0 = node_add(gamma0, b0, 'y0')\n",
    "\n",
    "gamma1 = node_matmul(y0, w1, 'gamma1')\n",
    "y1 = node_add(gamma1, b1, 'y1')\n",
    "\n",
    "gamma1r = node_matmul(y0, w1r, 'gamma1r')\n",
    "y1rs = node_add(gamma1r, b1r, 'y1rs')\n",
    "\n",
    "y1r = Switch(y1rs, [gamma1r], [node_mul(y1rs, 0.), node_mul(RANX, y1rs), node_mul(y1rs, 0.)], ['x<=0', 'x>0', 'x<=0'], 'y1r').compile()\n",
    "# y1r = Virtual([y1r_pre], [node_mul(y1r_pre, 0.), y1r_pre], ['[0]<0', '[0]>=0'], 'y1r').compile()\n",
    "\n",
    "gamma_rR = node_matmul(y1r, rR, 'gamma_rR')\n",
    "y_rR = node_add(gamma_rR, bR, 'y_rR')\n",
    "\n",
    "gamma_rL = node_matmul(y1r, rL, 'gamma_rL')\n",
    "y_rL = node_add(gamma_rL, bL, 'y_rL')\n",
    "\n",
    "y_rRL = node_add(y_rR, y_rL, 'y_rRL')\n",
    "y_rRL = node_div(5., node_add(5., y_rRL))\n",
    "\n",
    "merge = node_add(y1r, y_rRL, 'merge')\n",
    "merge2 = node_add(merge, y1, 'merge2')\n",
    "\n",
    "gamma2 = node_matmul(merge2, w2, 'gamma2')\n",
    "y2 = node_add(gamma2, b2, 'y2')\n",
    "\n",
    "diff = node_sub(y2, data_y, 'diff')\n",
    "squared = node_pow(diff, 2., 'squared')\n",
    "redsum = node_redsum(squared, 0, 'redsum')\n",
    "loss = node_div(redsum, 16., 'loss')\n",
    "\n",
    "with tf.GradientTape(persistent=True) as g:\n",
    "  tf_data_x = tf.Variable(tf.convert_to_tensor(data_x.tensor.get()))\n",
    "  tf_data_y = tf.Variable(tf.convert_to_tensor(data_y.tensor.get()))\n",
    "  tf_w0 = tf.Variable(tf.convert_to_tensor(w0.tensor.get()))\n",
    "  tf_b0 = tf.Variable(tf.convert_to_tensor(b0.tensor.get()))\n",
    "  tf_w1 = tf.Variable(tf.convert_to_tensor(w1.tensor.get()))\n",
    "  tf_b1 = tf.Variable(tf.convert_to_tensor(b1.tensor.get()))\n",
    "  tf_w1r = tf.Variable(tf.convert_to_tensor(w1r.tensor.get()))\n",
    "  tf_b1r = tf.Variable(tf.convert_to_tensor(b1r.tensor.get()))\n",
    "  tf_rR = tf.Variable(tf.convert_to_tensor(rR.tensor.get()))\n",
    "  tf_bR = tf.Variable(tf.convert_to_tensor(bR.tensor.get()))\n",
    "  tf_rL = tf.Variable(tf.convert_to_tensor(rL.tensor.get()))\n",
    "  tf_bL = tf.Variable(tf.convert_to_tensor(bL.tensor.get()))\n",
    "  tf_w2 = tf.Variable(tf.convert_to_tensor(w2.tensor.get()))\n",
    "  tf_b2 = tf.Variable(tf.convert_to_tensor(b2.tensor.get()))\n",
    "  tf_RANX = tf.Variable(tf.convert_to_tensor(RANX.tensor.get()))\n",
    "\n",
    "  tf_gamma0 = tf_data_x @ tf_w0\n",
    "  tf_y0 = tf_gamma0 + tf_b0\n",
    "  tf_gamma1 = tf_y0 @ tf_w1\n",
    "  tf_y1 = tf_gamma1 + tf_b1\n",
    "  tf_gamma1r = tf_y0 @ tf_w1r\n",
    "  tf_gamma1rs = tf_y0 @ tf_w1r\n",
    "  print(id(tf_gamma1r))\n",
    "  print(id(tf_gamma1rs))\n",
    "  tf_y1rs = tf_gamma1r + tf_b1r\n",
    "  tf_y1r = tf.where(tf_y1rs <= 0, x=0., y=tf_RANX * tf_y1rs)\n",
    "\n",
    "\n",
    "  tf_gamma_rR = tf_y1r @ tf_rR\n",
    "  tf_y_rR = tf_gamma_rR + tf_bR\n",
    "\n",
    "  tf_gamma_rL = tf_y1r @ tf_rL\n",
    "  tf_y_rL = tf_gamma_rL + tf_bL\n",
    "\n",
    "  tf_y_rRL = tf_y_rR + tf_y_rL\n",
    "  tf_y_rRL = 5./(5. + tf_y_rRL)\n",
    "\n",
    "  tf_merge = tf_y1r + tf_y_rRL\n",
    "  tf_merge2 = tf_merge + tf_y1\n",
    "\n",
    "  tf_gamma2 = tf_merge2 @ tf_w2\n",
    "  tf_y2 = tf_gamma2 + tf_b2\n",
    "  tf_diff = tf_y2 - tf_data_y\n",
    "  tf_squared = tf_diff ** 2\n",
    "  tf_redsum = tf.reduce_sum(tf_squared, axis=0, keepdims=True)\n",
    "  tf_loss = tf_redsum / 16.\n",
    "  \n",
    "start_time = time.time()\n",
    "grads = g.gradient(tf_loss, [tf_w0, tf_w1, tf_w2, tf_b0, tf_gamma_rR])\n",
    "print(\"--- %s seconds ---\" % (time.time() - start_time))\n",
    "\n",
    "start_time = time.time()\n",
    "loss.adic.set_as_objective()\n",
    "tr = []\n",
    "loss.adic.begin_backprop(tracing=False, traces=tr)\n",
    "w0.get_gradient()\n",
    "w1.get_gradient()\n",
    "w2.get_gradient()\n",
    "b0.get_gradient()\n",
    "print(\"--- %s seconds ---\" % (time.time() - start_time))"
   ]
  },
  {
   "cell_type": "code",
   "execution_count": 7,
   "metadata": {},
   "outputs": [
    {
     "data": {
      "text/plain": [
       "array([[ 9.82822554e+07,  3.78434180e+07, -3.63123538e+07, ...,\n",
       "        -4.96716203e+07,  4.14563141e+07, -3.11265443e+07],\n",
       "       [ 5.71906523e+07,  2.03560911e+07, -3.16690264e+07, ...,\n",
       "        -3.36158320e+07,  3.78552372e+07, -2.03696843e+07],\n",
       "       [-6.38790652e+07, -3.27947696e+07,  3.98388023e+05, ...,\n",
       "         2.69726888e+07, -1.22858760e+06,  1.31635847e+07],\n",
       "       ...,\n",
       "       [ 1.42492532e+08,  1.03406228e+08,  7.86138349e+07, ...,\n",
       "        -5.05243591e+07, -9.86913610e+07, -1.16349858e+07],\n",
       "       [ 1.11180528e+06,  2.96329495e+07,  8.58232666e+07, ...,\n",
       "         1.65220999e+07, -1.05689392e+08,  2.08509678e+07],\n",
       "       [ 8.85673440e+06, -9.53884602e+05, -2.29354333e+07, ...,\n",
       "        -1.14135006e+07,  2.58732667e+07, -8.34205119e+06]])"
      ]
     },
     "execution_count": 7,
     "metadata": {},
     "output_type": "execute_result"
    }
   ],
   "source": [
    "w0.get_gradient()"
   ]
  },
  {
   "cell_type": "code",
   "execution_count": 8,
   "metadata": {},
   "outputs": [
    {
     "data": {
      "text/plain": [
       "<tf.Tensor: shape=(1516, 516), dtype=float64, numpy=\n",
       "array([[ 9.82822554e+07,  3.78434180e+07, -3.63123538e+07, ...,\n",
       "        -4.96716203e+07,  4.14563141e+07, -3.11265443e+07],\n",
       "       [ 5.71906523e+07,  2.03560911e+07, -3.16690264e+07, ...,\n",
       "        -3.36158320e+07,  3.78552372e+07, -2.03696843e+07],\n",
       "       [-6.38790652e+07, -3.27947696e+07,  3.98388023e+05, ...,\n",
       "         2.69726888e+07, -1.22858760e+06,  1.31635847e+07],\n",
       "       ...,\n",
       "       [ 1.42492532e+08,  1.03406228e+08,  7.86138349e+07, ...,\n",
       "        -5.05243591e+07, -9.86913610e+07, -1.16349858e+07],\n",
       "       [ 1.11180528e+06,  2.96329495e+07,  8.58232666e+07, ...,\n",
       "         1.65220999e+07, -1.05689392e+08,  2.08509678e+07],\n",
       "       [ 8.85673440e+06, -9.53884602e+05, -2.29354333e+07, ...,\n",
       "        -1.14135006e+07,  2.58732667e+07, -8.34205119e+06]])>"
      ]
     },
     "execution_count": 8,
     "metadata": {},
     "output_type": "execute_result"
    }
   ],
   "source": [
    "grads[0]"
   ]
  },
  {
   "cell_type": "code",
   "execution_count": null,
   "metadata": {},
   "outputs": [],
   "source": []
  }
 ],
 "metadata": {
  "kernelspec": {
   "display_name": "venv",
   "language": "python",
   "name": "python3"
  },
  "language_info": {
   "codemirror_mode": {
    "name": "ipython",
    "version": 3
   },
   "file_extension": ".py",
   "mimetype": "text/x-python",
   "name": "python",
   "nbconvert_exporter": "python",
   "pygments_lexer": "ipython3",
   "version": "3.12.3"
  }
 },
 "nbformat": 4,
 "nbformat_minor": 2
}
