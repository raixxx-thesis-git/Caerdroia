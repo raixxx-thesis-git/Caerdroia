{
 "cells": [
  {
   "cell_type": "code",
   "execution_count": 1,
   "metadata": {},
   "outputs": [],
   "source": [
    "from cupy import ndarray\n",
    "from typing import List, Any, Tuple\n",
    "\n",
    "import cupy\n",
    "import mytensor as t\n",
    "import sys"
   ]
  },
  {
   "cell_type": "code",
   "execution_count": 2,
   "metadata": {},
   "outputs": [],
   "source": [
    "def t_update(t):\n",
    "  pending_for_deletion = []\n",
    "  for i in sys.modules:\n",
    "    if i.split('.')[0] == 'mytensor':\n",
    "      pending_for_deletion.append(i)\n",
    "\n",
    "  for i in pending_for_deletion:\n",
    "    del sys.modules[i]\n",
    "\n",
    "  import mytensor as t\n",
    "  return t"
   ]
  },
  {
   "cell_type": "code",
   "execution_count": 3,
   "metadata": {},
   "outputs": [],
   "source": [
    "x = cupy.random.normal(size=(100, 7))\n",
    "y = cupy.random.normal(size=(100, 1))\n",
    "W0 = cupy.random.normal(size=(7, 5))\n",
    "W1 = cupy.random.normal(size=(5, 1))\n",
    "\n",
    "x = t.TensorNode(x, name='x')\n",
    "y = t.TensorNode(y, name='y')\n",
    "W0 = t.TensorNode(W0, name='W0', is_weight=True)\n",
    "W1 = t.TensorNode(W1, name='W1', is_weight=True)"
   ]
  },
  {
   "cell_type": "code",
   "execution_count": 4,
   "metadata": {},
   "outputs": [],
   "source": [
    "y0 = x@W0\n",
    "y1 = y0@W1\n",
    "delta = y1 - y\n",
    "squared = delta**2.\n",
    "L = squared.reduce_sum(0) / 2."
   ]
  },
  {
   "cell_type": "code",
   "execution_count": 5,
   "metadata": {},
   "outputs": [],
   "source": [
    "import copy"
   ]
  },
  {
   "cell_type": "code",
   "execution_count": 6,
   "metadata": {},
   "outputs": [],
   "source": [
    "t = t_update(t)\n",
    "a = t.TensorNode(cupy.random.normal(size=(100,100)), name='a')\n",
    "b = t.TensorNode(cupy.random.normal(size=(100,50)), name='b')\n",
    "c = t.TensorNode(cupy.random.normal(size=(50,2)), name='c')\n",
    "\n",
    "z = a@b\n",
    "r = z@c\n",
    "copy_r = copy.deepcopy(r)\n",
    "d = r/2.\n",
    "dd = d + copy_r\n",
    "e = dd.reduce_sum(0)\n",
    "u = e.reduce_sum(1)\n",
    "f = u/3.\n",
    "h = f/10."
   ]
  },
  {
   "cell_type": "code",
   "execution_count": 8,
   "metadata": {},
   "outputs": [
    {
     "ename": "AttributeError",
     "evalue": "'NoneType' object has no attribute 'updated'",
     "output_type": "error",
     "traceback": [
      "\u001b[0;31m---------------------------------------------------------------------------\u001b[0m",
      "\u001b[0;31mAttributeError\u001b[0m                            Traceback (most recent call last)",
      "Cell \u001b[0;32mIn[8], line 1\u001b[0m\n\u001b[0;32m----> 1\u001b[0m \u001b[43mu\u001b[49m\u001b[38;5;241;43m.\u001b[39;49m\u001b[43mpropagate\u001b[49m\u001b[43m(\u001b[49m\u001b[43m)\u001b[49m\n",
      "File \u001b[0;32m~/autograd_project/mytensor/mytensor/tensor_node.py:123\u001b[0m, in \u001b[0;36mTensorNode.propagate\u001b[0;34m(self)\u001b[0m\n\u001b[1;32m    121\u001b[0m   \u001b[38;5;28;01mif\u001b[39;00m \u001b[38;5;129;01mnot\u001b[39;00m \u001b[38;5;28mself\u001b[39m\u001b[38;5;241m.\u001b[39mupdated: \u001b[38;5;28mself\u001b[39m\u001b[38;5;241m.\u001b[39mgrad \u001b[38;5;241m=\u001b[39m \u001b[38;5;28mself\u001b[39m\u001b[38;5;241m.\u001b[39mbackward_math\u001b[38;5;241m.\u001b[39mcompute_grad(\u001b[38;5;28mself\u001b[39m)\n\u001b[1;32m    122\u001b[0m   \u001b[38;5;28mself\u001b[39m\u001b[38;5;241m.\u001b[39mupdated \u001b[38;5;241m=\u001b[39m \u001b[38;5;28;01mTrue\u001b[39;00m\n\u001b[0;32m--> 123\u001b[0m   \u001b[43mp_parent\u001b[49m\u001b[38;5;241;43m.\u001b[39;49m\u001b[43mpropagate\u001b[49m\u001b[43m(\u001b[49m\u001b[43m)\u001b[49m\n\u001b[1;32m    124\u001b[0m   \u001b[38;5;28;01mreturn\u001b[39;00m\n\u001b[1;32m    126\u001b[0m \u001b[38;5;28;01mif\u001b[39;00m \u001b[38;5;28mself\u001b[39m\u001b[38;5;241m.\u001b[39mnode_type \u001b[38;5;241m==\u001b[39m \u001b[38;5;124m'\u001b[39m\u001b[38;5;124mp\u001b[39m\u001b[38;5;124m'\u001b[39m \u001b[38;5;129;01mand\u001b[39;00m p_parent \u001b[38;5;241m==\u001b[39m \u001b[38;5;28;01mNone\u001b[39;00m:\n\u001b[1;32m    127\u001b[0m   \u001b[38;5;66;03m# move to partner\u001b[39;00m\n",
      "File \u001b[0;32m~/autograd_project/mytensor/mytensor/tensor_node.py:123\u001b[0m, in \u001b[0;36mTensorNode.propagate\u001b[0;34m(self)\u001b[0m\n\u001b[1;32m    121\u001b[0m   \u001b[38;5;28;01mif\u001b[39;00m \u001b[38;5;129;01mnot\u001b[39;00m \u001b[38;5;28mself\u001b[39m\u001b[38;5;241m.\u001b[39mupdated: \u001b[38;5;28mself\u001b[39m\u001b[38;5;241m.\u001b[39mgrad \u001b[38;5;241m=\u001b[39m \u001b[38;5;28mself\u001b[39m\u001b[38;5;241m.\u001b[39mbackward_math\u001b[38;5;241m.\u001b[39mcompute_grad(\u001b[38;5;28mself\u001b[39m)\n\u001b[1;32m    122\u001b[0m   \u001b[38;5;28mself\u001b[39m\u001b[38;5;241m.\u001b[39mupdated \u001b[38;5;241m=\u001b[39m \u001b[38;5;28;01mTrue\u001b[39;00m\n\u001b[0;32m--> 123\u001b[0m   \u001b[43mp_parent\u001b[49m\u001b[38;5;241;43m.\u001b[39;49m\u001b[43mpropagate\u001b[49m\u001b[43m(\u001b[49m\u001b[43m)\u001b[49m\n\u001b[1;32m    124\u001b[0m   \u001b[38;5;28;01mreturn\u001b[39;00m\n\u001b[1;32m    126\u001b[0m \u001b[38;5;28;01mif\u001b[39;00m \u001b[38;5;28mself\u001b[39m\u001b[38;5;241m.\u001b[39mnode_type \u001b[38;5;241m==\u001b[39m \u001b[38;5;124m'\u001b[39m\u001b[38;5;124mp\u001b[39m\u001b[38;5;124m'\u001b[39m \u001b[38;5;129;01mand\u001b[39;00m p_parent \u001b[38;5;241m==\u001b[39m \u001b[38;5;28;01mNone\u001b[39;00m:\n\u001b[1;32m    127\u001b[0m   \u001b[38;5;66;03m# move to partner\u001b[39;00m\n",
      "    \u001b[0;31m[... skipping similar frames: TensorNode.propagate at line 123 (3 times)]\u001b[0m\n",
      "File \u001b[0;32m~/autograd_project/mytensor/mytensor/tensor_node.py:123\u001b[0m, in \u001b[0;36mTensorNode.propagate\u001b[0;34m(self)\u001b[0m\n\u001b[1;32m    121\u001b[0m   \u001b[38;5;28;01mif\u001b[39;00m \u001b[38;5;129;01mnot\u001b[39;00m \u001b[38;5;28mself\u001b[39m\u001b[38;5;241m.\u001b[39mupdated: \u001b[38;5;28mself\u001b[39m\u001b[38;5;241m.\u001b[39mgrad \u001b[38;5;241m=\u001b[39m \u001b[38;5;28mself\u001b[39m\u001b[38;5;241m.\u001b[39mbackward_math\u001b[38;5;241m.\u001b[39mcompute_grad(\u001b[38;5;28mself\u001b[39m)\n\u001b[1;32m    122\u001b[0m   \u001b[38;5;28mself\u001b[39m\u001b[38;5;241m.\u001b[39mupdated \u001b[38;5;241m=\u001b[39m \u001b[38;5;28;01mTrue\u001b[39;00m\n\u001b[0;32m--> 123\u001b[0m   \u001b[43mp_parent\u001b[49m\u001b[38;5;241;43m.\u001b[39;49m\u001b[43mpropagate\u001b[49m\u001b[43m(\u001b[49m\u001b[43m)\u001b[49m\n\u001b[1;32m    124\u001b[0m   \u001b[38;5;28;01mreturn\u001b[39;00m\n\u001b[1;32m    126\u001b[0m \u001b[38;5;28;01mif\u001b[39;00m \u001b[38;5;28mself\u001b[39m\u001b[38;5;241m.\u001b[39mnode_type \u001b[38;5;241m==\u001b[39m \u001b[38;5;124m'\u001b[39m\u001b[38;5;124mp\u001b[39m\u001b[38;5;124m'\u001b[39m \u001b[38;5;129;01mand\u001b[39;00m p_parent \u001b[38;5;241m==\u001b[39m \u001b[38;5;28;01mNone\u001b[39;00m:\n\u001b[1;32m    127\u001b[0m   \u001b[38;5;66;03m# move to partner\u001b[39;00m\n",
      "File \u001b[0;32m~/autograd_project/mytensor/mytensor/tensor_node.py:119\u001b[0m, in \u001b[0;36mTensorNode.propagate\u001b[0;34m(self)\u001b[0m\n\u001b[1;32m    116\u001b[0m   \u001b[38;5;28;01mpass\u001b[39;00m \u001b[38;5;66;03m# do something!\u001b[39;00m\n\u001b[1;32m    117\u001b[0m partner: TensorNode\u001b[38;5;241m|\u001b[39m \u001b[38;5;28;01mNone\u001b[39;00m \u001b[38;5;241m=\u001b[39m child\u001b[38;5;241m.\u001b[39mparent[\u001b[38;5;241m1\u001b[39m]\n\u001b[0;32m--> 119\u001b[0m \u001b[38;5;28;01mif\u001b[39;00m \u001b[38;5;129;01mnot\u001b[39;00m \u001b[43mp_parent\u001b[49m\u001b[38;5;241;43m.\u001b[39;49m\u001b[43mupdated\u001b[49m:\n\u001b[1;32m    120\u001b[0m   \u001b[38;5;66;03m# move to p_parent\u001b[39;00m\n\u001b[1;32m    121\u001b[0m   \u001b[38;5;28;01mif\u001b[39;00m \u001b[38;5;129;01mnot\u001b[39;00m \u001b[38;5;28mself\u001b[39m\u001b[38;5;241m.\u001b[39mupdated: \u001b[38;5;28mself\u001b[39m\u001b[38;5;241m.\u001b[39mgrad \u001b[38;5;241m=\u001b[39m \u001b[38;5;28mself\u001b[39m\u001b[38;5;241m.\u001b[39mbackward_math\u001b[38;5;241m.\u001b[39mcompute_grad(\u001b[38;5;28mself\u001b[39m)\n\u001b[1;32m    122\u001b[0m   \u001b[38;5;28mself\u001b[39m\u001b[38;5;241m.\u001b[39mupdated \u001b[38;5;241m=\u001b[39m \u001b[38;5;28;01mTrue\u001b[39;00m\n",
      "\u001b[0;31mAttributeError\u001b[0m: 'NoneType' object has no attribute 'updated'"
     ]
    }
   ],
   "source": [
    "u.propagate()"
   ]
  },
  {
   "cell_type": "code",
   "execution_count": null,
   "metadata": {},
   "outputs": [
    {
     "data": {
      "text/plain": [
       "array([[1., 1., 1.],\n",
       "       [1., 1., 1.],\n",
       "       [1., 1., 1.],\n",
       "       [1., 1., 1.],\n",
       "       [1., 1., 1.],\n",
       "       [1., 1., 1.],\n",
       "       [1., 1., 1.],\n",
       "       [1., 1., 1.],\n",
       "       [1., 1., 1.],\n",
       "       [1., 1., 1.]])"
      ]
     },
     "execution_count": 537,
     "metadata": {},
     "output_type": "execute_result"
    }
   ],
   "source": [
    "r = cupy.ones((10,1))\n",
    "cupy.repeat(r, 3, axis=1)"
   ]
  },
  {
   "cell_type": "code",
   "execution_count": null,
   "metadata": {},
   "outputs": [
    {
     "data": {
      "text/plain": [
       "array([34588537.41247571])"
      ]
     },
     "execution_count": 404,
     "metadata": {},
     "output_type": "execute_result"
    }
   ],
   "source": [
    "x.tensor**4.0\n",
    "import operator\n",
    "operator.pow(x.tensor, 4.0)"
   ]
  },
  {
   "cell_type": "code",
   "execution_count": null,
   "metadata": {},
   "outputs": [
    {
     "data": {
      "text/plain": [
       "array([1.000e+00, 4.000e+00, 2.700e+01, 2.560e+02, 3.125e+03],\n",
       "      dtype=float32)"
      ]
     },
     "execution_count": 379,
     "metadata": {},
     "output_type": "execute_result"
    }
   ],
   "source": [
    "y = cupy.array([1,2,3,4,5], dtype=cupy.float32)\n",
    "y**y"
   ]
  },
  {
   "cell_type": "code",
   "execution_count": null,
   "metadata": {},
   "outputs": [],
   "source": [
    "def a(**kwargs):\n",
    "  print(kwargs)\n",
    "  for i in kwargs:\n",
    "    print(i)"
   ]
  },
  {
   "cell_type": "code",
   "execution_count": null,
   "metadata": {},
   "outputs": [
    {
     "name": "stdout",
     "output_type": "stream",
     "text": [
      "{'s': 12, 'g': 13}\n",
      "s\n",
      "g\n"
     ]
    }
   ],
   "source": [
    "a(s=12,g=13)"
   ]
  },
  {
   "cell_type": "code",
   "execution_count": null,
   "metadata": {},
   "outputs": [],
   "source": [
    "def bb(der, pax):\n",
    "  print(der)\n",
    "  print(pax)\n",
    "  pass"
   ]
  },
  {
   "cell_type": "code",
   "execution_count": null,
   "metadata": {},
   "outputs": [
    {
     "ename": "TypeError",
     "evalue": "bb() got an unexpected keyword argument 'sropt'",
     "output_type": "error",
     "traceback": [
      "\u001b[0;31m---------------------------------------------------------------------------\u001b[0m",
      "\u001b[0;31mTypeError\u001b[0m                                 Traceback (most recent call last)",
      "Cell \u001b[0;32mIn[318], line 2\u001b[0m\n\u001b[1;32m      1\u001b[0m zy \u001b[38;5;241m=\u001b[39m {\u001b[38;5;124m'\u001b[39m\u001b[38;5;124mpax\u001b[39m\u001b[38;5;124m'\u001b[39m: \u001b[38;5;241m11\u001b[39m, \u001b[38;5;124m'\u001b[39m\u001b[38;5;124mder\u001b[39m\u001b[38;5;124m'\u001b[39m: \u001b[38;5;241m12\u001b[39m, \u001b[38;5;124m'\u001b[39m\u001b[38;5;124msropt\u001b[39m\u001b[38;5;124m'\u001b[39m:\u001b[38;5;241m2\u001b[39m}\n\u001b[0;32m----> 2\u001b[0m \u001b[43mbb\u001b[49m\u001b[43m(\u001b[49m\u001b[38;5;241;43m*\u001b[39;49m\u001b[38;5;241;43m*\u001b[39;49m\u001b[43mzy\u001b[49m\u001b[43m)\u001b[49m\n",
      "\u001b[0;31mTypeError\u001b[0m: bb() got an unexpected keyword argument 'sropt'"
     ]
    }
   ],
   "source": [
    "zy = {'pax': 11, 'der': 12, 'sropt':2}\n",
    "bb(**zy)"
   ]
  },
  {
   "cell_type": "code",
   "execution_count": null,
   "metadata": {},
   "outputs": [
    {
     "name": "stdout",
     "output_type": "stream",
     "text": [
      "secondary\n"
     ]
    }
   ],
   "source": [
    "grad_computer = t.GradComputer()\n",
    "grad_computer.decide_and_calc_gradient(g)"
   ]
  },
  {
   "cell_type": "code",
   "execution_count": null,
   "metadata": {},
   "outputs": [],
   "source": [
    "a = cupy.array([1,2,3,4,5], dtype=cupy.float32)\n",
    "\n",
    "kernel = '''\n",
    "  float eps = 1E-6;\n",
    "  float incremented = x + eps;\n",
    "  float delta_numerator = \n",
    "'''\n",
    "r = cupy.ElementwiseKernel('float32 x, float32 y', 'float32 z', kernel)"
   ]
  },
  {
   "cell_type": "code",
   "execution_count": null,
   "metadata": {},
   "outputs": [
    {
     "data": {
      "text/plain": [
       "array([3.3, 4.3, 5.3, 6.3, 7.3], dtype=float32)"
      ]
     },
     "execution_count": 143,
     "metadata": {},
     "output_type": "execute_result"
    }
   ],
   "source": [
    "r(a, a)"
   ]
  },
  {
   "cell_type": "code",
   "execution_count": null,
   "metadata": {},
   "outputs": [
    {
     "ename": "TensorNodeError",
     "evalue": "Foreign type tensor.",
     "output_type": "error",
     "traceback": [
      "\u001b[0;31m---------------------------------------------------------------------------\u001b[0m",
      "\u001b[0;31mTensorNodeError\u001b[0m                           Traceback (most recent call last)",
      "Cell \u001b[0;32mIn[144], line 6\u001b[0m\n\u001b[1;32m      2\u001b[0m y \u001b[38;5;241m=\u001b[39m t\u001b[38;5;241m.\u001b[39mTensorNode([[\u001b[38;5;241m10\u001b[39m,\u001b[38;5;241m5\u001b[39m],[\u001b[38;5;241m1\u001b[39m,\u001b[38;5;241m7\u001b[39m]], name\u001b[38;5;241m=\u001b[39m\u001b[38;5;124m'\u001b[39m\u001b[38;5;124my\u001b[39m\u001b[38;5;124m'\u001b[39m)\n\u001b[1;32m      4\u001b[0m z \u001b[38;5;241m=\u001b[39m x\u001b[38;5;129m@y\u001b[39m\n\u001b[0;32m----> 6\u001b[0m r \u001b[38;5;241m=\u001b[39m \u001b[43mz\u001b[49m\u001b[38;5;241;43m/\u001b[39;49m\u001b[43ma\u001b[49m\n",
      "File \u001b[0;32m~/autograd_project/mytensor/tensor_node.py:74\u001b[0m, in \u001b[0;36mTensorNode.__truediv__\u001b[0;34m(self, partner)\u001b[0m\n\u001b[1;32m     73\u001b[0m \u001b[38;5;28;01mdef\u001b[39;00m \u001b[38;5;21m__truediv__\u001b[39m(\u001b[38;5;28mself\u001b[39m, partner: TensorNode):\n\u001b[0;32m---> 74\u001b[0m   \u001b[38;5;28;01mreturn\u001b[39;00m \u001b[38;5;28;43mself\u001b[39;49m\u001b[38;5;241;43m.\u001b[39;49m\u001b[43mbasic_linalg\u001b[49m\u001b[43m(\u001b[49m\u001b[43mpartner\u001b[49m\u001b[43m,\u001b[49m\u001b[43m \u001b[49m\u001b[38;5;124;43m'\u001b[39;49m\u001b[38;5;124;43m/\u001b[39;49m\u001b[38;5;124;43m'\u001b[39;49m\u001b[43m)\u001b[49m\n",
      "File \u001b[0;32m~/autograd_project/mytensor/tensor_node.py:42\u001b[0m, in \u001b[0;36mTensorNode.basic_linalg\u001b[0;34m(self, partner, operation)\u001b[0m\n\u001b[1;32m     41\u001b[0m \u001b[38;5;28;01mdef\u001b[39;00m \u001b[38;5;21mbasic_linalg\u001b[39m(\u001b[38;5;28mself\u001b[39m, partner: TensorNode, operation: \u001b[38;5;28mstr\u001b[39m) \u001b[38;5;241m-\u001b[39m\u001b[38;5;241m>\u001b[39m TensorNode:\n\u001b[0;32m---> 42\u001b[0m   \u001b[38;5;28;01mif\u001b[39;00m \u001b[38;5;28mtype\u001b[39m(partner) \u001b[38;5;241m!=\u001b[39m TensorNode: \u001b[38;5;28;01mraise\u001b[39;00m TensorNodeError(\u001b[38;5;124m'\u001b[39m\u001b[38;5;124mForeign type tensor.\u001b[39m\u001b[38;5;124m'\u001b[39m)\n\u001b[1;32m     44\u001b[0m   operator_dict \u001b[38;5;241m=\u001b[39m {\u001b[38;5;124m'\u001b[39m\u001b[38;5;124m+\u001b[39m\u001b[38;5;124m'\u001b[39m: operator\u001b[38;5;241m.\u001b[39madd, \n\u001b[1;32m     45\u001b[0m                    \u001b[38;5;124m'\u001b[39m\u001b[38;5;124m-\u001b[39m\u001b[38;5;124m'\u001b[39m: operator\u001b[38;5;241m.\u001b[39msub, \n\u001b[1;32m     46\u001b[0m                    \u001b[38;5;124m'\u001b[39m\u001b[38;5;124m@\u001b[39m\u001b[38;5;124m'\u001b[39m: operator\u001b[38;5;241m.\u001b[39mmatmul, \n\u001b[1;32m     47\u001b[0m                    \u001b[38;5;124m'\u001b[39m\u001b[38;5;124m*\u001b[39m\u001b[38;5;124m'\u001b[39m: operator\u001b[38;5;241m.\u001b[39mmul,\n\u001b[1;32m     48\u001b[0m                    \u001b[38;5;124m'\u001b[39m\u001b[38;5;124m/\u001b[39m\u001b[38;5;124m'\u001b[39m: operator\u001b[38;5;241m.\u001b[39mtruediv}\n\u001b[1;32m     50\u001b[0m   \u001b[38;5;66;03m# creating a child node\u001b[39;00m\n",
      "\u001b[0;31mTensorNodeError\u001b[0m: Foreign type tensor."
     ]
    }
   ],
   "source": [
    "x = t.TensorNode([[12,3],[5,6]], name='x')\n",
    "y = t.TensorNode([[10,5],[1,7]], name='y')\n",
    "\n",
    "z = x@y\n",
    "\n",
    "r = z/a"
   ]
  },
  {
   "cell_type": "code",
   "execution_count": null,
   "metadata": {},
   "outputs": [],
   "source": [
    "x = t.TensorNode(cupy.random.normal(size=(1000,1000)))\n",
    "y = t.TensorNode(cupy.random.normal(size=(1000,7000)))\n",
    "\n",
    "z = x@y"
   ]
  },
  {
   "cell_type": "code",
   "execution_count": null,
   "metadata": {},
   "outputs": [
    {
     "data": {
      "text/plain": [
       "TensorNode\n",
       "Name:(None@None)\n",
       "Memory:139809093233552\n",
       "[[ 37.29762068   4.53384792  30.61500471 ...  60.18328411 -18.90310318\n",
       "  -64.15940643]\n",
       " [ 37.58950326  -0.57364144  19.85995657 ... -12.2005313  -34.91459\n",
       "  -23.57267975]\n",
       " [ 44.97245058  -2.88021537 -23.27193722 ...  37.02139232   0.76180238\n",
       "   12.53589196]\n",
       " ...\n",
       " [ 27.95091232  48.54498078  35.48940676 ...  -9.87125267  26.09058185\n",
       "    3.66317272]\n",
       " [ 23.12697985  15.0095266   12.72206292 ... -10.68657581  84.56579232\n",
       "    9.6026919 ]\n",
       " [-19.06869712  38.79325013  92.84293647 ...  -4.75683846  14.98012206\n",
       "   -4.32979292]]"
      ]
     },
     "execution_count": 10,
     "metadata": {},
     "output_type": "execute_result"
    }
   ],
   "source": [
    "z"
   ]
  },
  {
   "cell_type": "code",
   "execution_count": null,
   "metadata": {},
   "outputs": [
    {
     "data": {
      "text/plain": [
       "array([[ 19.28495069, -51.43219486, -49.93712694, ..., -30.26086317,\n",
       "         -9.22155791,  -3.55087861],\n",
       "       [ 29.44045447, -14.40859038,  -3.86330677, ...,  10.3874261 ,\n",
       "         -1.20654702, -24.54852436],\n",
       "       [  1.80022564,  46.27791937, -24.09992972, ...,   4.95694029,\n",
       "        -19.17808276,  18.45007159],\n",
       "       ...,\n",
       "       [ 10.58481411,  17.0488717 ,  10.1886063 , ...,   3.79476739,\n",
       "        -23.67104739, -43.76786755],\n",
       "       [ 19.24795907,  -4.75976313,  45.22347638, ...,  -6.54302496,\n",
       "        -15.54353629,  97.59695314],\n",
       "       [ -9.75638605,   3.98154961,  21.63385428, ..., -25.23079375,\n",
       "         10.2798262 ,   0.27620558]])"
      ]
     },
     "execution_count": 83,
     "metadata": {},
     "output_type": "execute_result"
    }
   ],
   "source": [
    "z.T"
   ]
  },
  {
   "cell_type": "code",
   "execution_count": null,
   "metadata": {},
   "outputs": [],
   "source": [
    "z.T()"
   ]
  },
  {
   "cell_type": "code",
   "execution_count": null,
   "metadata": {},
   "outputs": [],
   "source": [
    "import operator"
   ]
  },
  {
   "cell_type": "code",
   "execution_count": null,
   "metadata": {},
   "outputs": [
    {
     "data": {
      "text/plain": [
       "4"
      ]
     },
     "execution_count": 37,
     "metadata": {},
     "output_type": "execute_result"
    }
   ],
   "source": [
    "operator.add(1,3)"
   ]
  },
  {
   "cell_type": "code",
   "execution_count": null,
   "metadata": {},
   "outputs": [],
   "source": []
  }
 ],
 "metadata": {
  "kernelspec": {
   "display_name": "autograd_venv",
   "language": "python",
   "name": "python3"
  },
  "language_info": {
   "codemirror_mode": {
    "name": "ipython",
    "version": 3
   },
   "file_extension": ".py",
   "mimetype": "text/x-python",
   "name": "python",
   "nbconvert_exporter": "python",
   "pygments_lexer": "ipython3",
   "version": "3.10.12"
  }
 },
 "nbformat": 4,
 "nbformat_minor": 2
}
