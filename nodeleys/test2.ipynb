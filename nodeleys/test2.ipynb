{
 "cells": [
  {
   "cell_type": "code",
   "execution_count": 168,
   "metadata": {},
   "outputs": [],
   "source": [
    "import cupy\n",
    "from typing import Tuple"
   ]
  },
  {
   "cell_type": "code",
   "execution_count": 169,
   "metadata": {},
   "outputs": [],
   "source": [
    "def block_stride_view(blocks, view_size: Tuple[int], strides: Tuple[int]=(1,1)):\n",
    "  batch_size = blocks.shape[0]\n",
    "  channel = blocks.shape[1]\n",
    "  domain_height = blocks.shape[2]\n",
    "  domain_width = blocks.shape[3]\n",
    "\n",
    "  view_height = view_size[0]\n",
    "  view_width = view_size[1]\n",
    " \n",
    "  stride_height = strides[0]\n",
    "  stride_width = strides[1]\n",
    "\n",
    "  new_width = 1 + int((domain_width - view_width)/stride_width)\n",
    "  new_height = 1 + int((domain_height - view_height)/stride_height)\n",
    "\n",
    "  pick_shape = (new_height, new_width, batch_size, channel, view_height, view_width)\n",
    "\n",
    "  blocks_strides = cupy.array((blocks.strides + blocks.strides)[2:])\n",
    "  blocks_stride_strides  = cupy.array((blocks.strides[2]*(stride_height-1), blocks.strides[3]*(stride_width-1), 0, 0,0,0))\n",
    "  # memory_skip = (blocks.strides + blocks.strides)[2:]\n",
    "  memory_skip = (blocks_strides + blocks_stride_strides).get()\n",
    "\n",
    "  sub_blocks = cupy.lib.stride_tricks.as_strided(blocks, pick_shape, memory_skip)\n",
    "  \n",
    "  return sub_blocks"
   ]
  },
  {
   "cell_type": "code",
   "execution_count": 172,
   "metadata": {},
   "outputs": [
    {
     "name": "stdout",
     "output_type": "stream",
     "text": [
      "(14, 14, 20, 3, 3, 3)\n"
     ]
    }
   ],
   "source": [
    "img = cupy.random.uniform(high=100, size=(20, 3, 16, 16)).astype(int)\n",
    "sub_blocks = block_stride_view(img, (3,3), (1,1))\n",
    "print(sub_blocks.shape)"
   ]
  },
  {
   "cell_type": "code",
   "execution_count": 173,
   "metadata": {},
   "outputs": [],
   "source": [
    "def reconstruct_blocks(sub_blocks, original_shape: Tuple[int], view_size: Tuple[int], strides: Tuple[int] = (1, 1)):\n",
    "    # Extract original shape parameters\n",
    "    batch_size, channels, domain_height, domain_width = original_shape\n",
    "\n",
    "    # Extract sub_blocks parameters\n",
    "    new_height = sub_blocks.shape[0]\n",
    "    new_width = sub_blocks.shape[1]\n",
    "    view_height = view_size[0]\n",
    "    view_width = view_size[1]\n",
    "    \n",
    "    stride_height = strides[0]\n",
    "    stride_width = strides[1]\n",
    "\n",
    "    # Initialize the reconstructed blocks array and a counter array\n",
    "    blocks = cupy.zeros((batch_size, channels, domain_height, domain_width))\n",
    "    block_counter = cupy.zeros((batch_size, channels, domain_height, domain_width))\n",
    "\n",
    "    # Reconstruct the blocks by placing each sub_block at the correct position\n",
    "    for i in range(new_height):\n",
    "        for j in range(new_width):\n",
    "            row_start = i * stride_height\n",
    "            col_start = j * stride_width\n",
    "            row_end = row_start + view_height\n",
    "            col_end = col_start + view_width\n",
    "\n",
    "            # Add sub_block to the corresponding location in the original blocks\n",
    "            blocks[:, :, row_start:row_end, col_start:col_end] += sub_blocks[i, j]\n",
    "\n",
    "    return blocks"
   ]
  },
  {
   "cell_type": "code",
   "execution_count": 174,
   "metadata": {},
   "outputs": [],
   "source": [
    "blocksx = reconstruct_blocks(sub_blocks, (20,3,16,16), (3,3), (1,1))"
   ]
  },
  {
   "cell_type": "code",
   "execution_count": 32,
   "metadata": {},
   "outputs": [
    {
     "data": {
      "text/plain": [
       "array([0, 1, 2, 1, 2, 3, 2, 3, 4, 3, 4, 5, 5, 6, 7])"
      ]
     },
     "execution_count": 32,
     "metadata": {},
     "output_type": "execute_result"
    }
   ],
   "source": [
    "import cupy as cp\n",
    "a = cupy.array([[0,1,2], [1,2,3], [2,3,4], [3,4,5], [5,6,7]])\n",
    "b = cupy.zeros(shape=(9))\n",
    "\n",
    "\n",
    "cupy.concatenate(a, axis=0,)"
   ]
  },
  {
   "cell_type": "code",
   "execution_count": 72,
   "metadata": {},
   "outputs": [
    {
     "name": "stdout",
     "output_type": "stream",
     "text": [
      "[[ True  True  True]\n",
      " [False False  True]\n",
      " [False False  True]\n",
      " [False False  True]\n",
      " [False False  True]]\n"
     ]
    },
    {
     "ename": "IndexError",
     "evalue": "too many indices for array: array is 3-dimensional, but 4 were indexed",
     "output_type": "error",
     "traceback": [
      "\u001b[0;31m---------------------------------------------------------------------------\u001b[0m",
      "\u001b[0;31mIndexError\u001b[0m                                Traceback (most recent call last)",
      "Cell \u001b[0;32mIn[72], line 15\u001b[0m\n\u001b[1;32m     13\u001b[0m \u001b[38;5;28mprint\u001b[39m(mask)\n\u001b[1;32m     14\u001b[0m \u001b[38;5;66;03m# Flatten the array and apply the mask\u001b[39;00m\n\u001b[0;32m---> 15\u001b[0m result \u001b[38;5;241m=\u001b[39m \u001b[43ma\u001b[49m\u001b[43m[\u001b[49m\u001b[43m:\u001b[49m\u001b[43m,\u001b[49m\u001b[43m:\u001b[49m\u001b[43m,\u001b[49m\u001b[43mmask\u001b[49m\u001b[43m]\u001b[49m\n\u001b[1;32m     17\u001b[0m \u001b[38;5;66;03m# Convert to numpy for easy viewing (if needed)\u001b[39;00m\n\u001b[1;32m     18\u001b[0m \u001b[38;5;28mprint\u001b[39m(result\u001b[38;5;241m.\u001b[39mget())  \u001b[38;5;66;03m# Output on the host\u001b[39;00m\n",
      "File \u001b[0;32mcupy/_core/core.pyx:1527\u001b[0m, in \u001b[0;36mcupy._core.core._ndarray_base.__getitem__\u001b[0;34m()\u001b[0m\n",
      "File \u001b[0;32mcupy/_core/_routines_indexing.pyx:33\u001b[0m, in \u001b[0;36mcupy._core._routines_indexing._ndarray_getitem\u001b[0;34m()\u001b[0m\n",
      "File \u001b[0;32mcupy/_core/_routines_indexing.pyx:342\u001b[0m, in \u001b[0;36mcupy._core._routines_indexing._view_getitem\u001b[0;34m()\u001b[0m\n",
      "\u001b[0;31mIndexError\u001b[0m: too many indices for array: array is 3-dimensional, but 4 were indexed"
     ]
    }
   ],
   "source": [
    "import cupy as cp\n",
    "\n",
    "# Define the array\n",
    "a = cp.array([[[0,1,2],[0,0,0]], \n",
    "              [[2,3,4],[0,0,0]],\n",
    "              [[3,4,5],[0,0,0]],\n",
    "              [[4,5,6],[0,0,0]],\n",
    "              [[5,6,7],[0,0,0]]])\n",
    "\n",
    "# Create a mask that selects the entire first row and only the last element of each subsequent row\n",
    "mask = cp.array([True, True, True] + [False, False, True] * (a.shape[0] - 1))\n",
    "mask = cp.reshape(mask, (5,3))\n",
    "print(mask)\n",
    "# Flatten the array and apply the mask\n",
    "result = a[:,:,mask]\n",
    "\n",
    "# Convert to numpy for easy viewing (if needed)\n",
    "print(result.get())  # Output on the host"
   ]
  },
  {
   "cell_type": "code",
   "execution_count": 93,
   "metadata": {},
   "outputs": [
    {
     "ename": "ValueError",
     "evalue": "setting an array element with a sequence. The requested array has an inhomogeneous shape after 1 dimensions. The detected shape was (2,) + inhomogeneous part.",
     "output_type": "error",
     "traceback": [
      "\u001b[0;31m---------------------------------------------------------------------------\u001b[0m",
      "\u001b[0;31mValueError\u001b[0m                                Traceback (most recent call last)",
      "Cell \u001b[0;32mIn[93], line 1\u001b[0m\n\u001b[0;32m----> 1\u001b[0m \u001b[43ma\u001b[49m\u001b[43m[\u001b[49m\u001b[43m:\u001b[49m\u001b[43m,\u001b[49m\u001b[43m:\u001b[49m\u001b[43m,\u001b[49m\u001b[43m[\u001b[49m\u001b[43m[\u001b[49m\u001b[38;5;241;43m0\u001b[39;49m\u001b[43m,\u001b[49m\u001b[38;5;241;43m1\u001b[39;49m\u001b[43m,\u001b[49m\u001b[38;5;241;43m2\u001b[39;49m\u001b[43m]\u001b[49m\u001b[43m,\u001b[49m\u001b[43m[\u001b[49m\u001b[38;5;241;43m-\u001b[39;49m\u001b[38;5;241;43m1\u001b[39;49m\u001b[43m]\u001b[49m\u001b[43m]\u001b[49m\u001b[43m]\u001b[49m\n",
      "File \u001b[0;32mcupy/_core/core.pyx:1527\u001b[0m, in \u001b[0;36mcupy._core.core._ndarray_base.__getitem__\u001b[0;34m()\u001b[0m\n",
      "File \u001b[0;32mcupy/_core/_routines_indexing.pyx:32\u001b[0m, in \u001b[0;36mcupy._core._routines_indexing._ndarray_getitem\u001b[0;34m()\u001b[0m\n",
      "File \u001b[0;32mcupy/_core/_routines_indexing.pyx:268\u001b[0m, in \u001b[0;36mcupy._core._routines_indexing._prepare_slice_list\u001b[0;34m()\u001b[0m\n",
      "File \u001b[0;32mcupy/_core/core.pyx:2857\u001b[0m, in \u001b[0;36mcupy._core.core.min_scalar_type\u001b[0;34m()\u001b[0m\n",
      "File \u001b[0;32mcupy/_core/core.pyx:2870\u001b[0m, in \u001b[0;36mcupy._core.core.min_scalar_type\u001b[0;34m()\u001b[0m\n",
      "\u001b[0;31mValueError\u001b[0m: setting an array element with a sequence. The requested array has an inhomogeneous shape after 1 dimensions. The detected shape was (2,) + inhomogeneous part."
     ]
    }
   ],
   "source": [
    "a[:,:,[[0,1,2],[-1]]]"
   ]
  },
  {
   "cell_type": "code",
   "execution_count": 126,
   "metadata": {},
   "outputs": [],
   "source": [
    "a = cupy.random.normal(size=(10,10))\n",
    "b = cupy.random.normal(size=(10,12))\n",
    "\n",
    "c = cupy.einsum('ij,(j+1)k->ik', a, b)"
   ]
  },
  {
   "cell_type": "code",
   "execution_count": 124,
   "metadata": {},
   "outputs": [
    {
     "data": {
      "text/plain": [
       "(12, 10)"
      ]
     },
     "execution_count": 124,
     "metadata": {},
     "output_type": "execute_result"
    }
   ],
   "source": [
    "c.shape"
   ]
  },
  {
   "cell_type": "code",
   "execution_count": 136,
   "metadata": {},
   "outputs": [],
   "source": [
    "zeta = cupy.random.normal(size=(12,12,20,5,3,3))\n",
    "psi = cupy.random.normal(size=(5,10,8,8))\n",
    "\n",
    "sum = cupy.einsum('hwbkat,kcrs', zeta, psi)"
   ]
  },
  {
   "cell_type": "code",
   "execution_count": 137,
   "metadata": {},
   "outputs": [
    {
     "data": {
      "text/plain": [
       "(3, 20, 10, 12, 8, 8, 3, 12)"
      ]
     },
     "execution_count": 137,
     "metadata": {},
     "output_type": "execute_result"
    }
   ],
   "source": [
    "sum.shape"
   ]
  },
  {
   "cell_type": "code",
   "execution_count": null,
   "metadata": {},
   "outputs": [],
   "source": []
  }
 ],
 "metadata": {
  "kernelspec": {
   "display_name": "venv",
   "language": "python",
   "name": "python3"
  },
  "language_info": {
   "codemirror_mode": {
    "name": "ipython",
    "version": 3
   },
   "file_extension": ".py",
   "mimetype": "text/x-python",
   "name": "python",
   "nbconvert_exporter": "python",
   "pygments_lexer": "ipython3",
   "version": "3.12.3"
  }
 },
 "nbformat": 4,
 "nbformat_minor": 2
}
